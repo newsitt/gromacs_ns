{
 "cells": [
  {
   "cell_type": "markdown",
   "metadata": {},
   "source": [
    "Convert .xvg to Excel"
   ]
  },
  {
   "cell_type": "markdown",
   "metadata": {},
   "source": [
    "- Gyrate"
   ]
  },
  {
   "cell_type": "code",
   "execution_count": null,
   "metadata": {},
   "outputs": [
    {
     "name": "stdout",
     "output_type": "stream",
     "text": [
      "An unexpected error occurred: 5 columns passed, passed data had 2 columns\n"
     ]
    }
   ],
   "source": [
    "import pandas as pd\n",
    "\n",
    "# Specify the path to your .xvg file\n",
    "xvg_file = r\"C:\\Users\\User\\Desktop\\thesis\\topic1\\8TMA_06122024\\gyrate.xvg\"\n",
    "\n",
    "# Initialize an empty list to store the data\n",
    "data = []\n",
    "\n",
    "try:\n",
    "    # Read the .xvg file, ignoring lines that start with '@' or '#'\n",
    "    with open(xvg_file, 'r') as file:\n",
    "        for line in file:\n",
    "            # Ignore comment lines and empty lines\n",
    "            if not line.startswith(('@', '#')) and line.strip():\n",
    "                data.append([float(x) for x in line.split()])\n",
    "\n",
    "    # Convert the data into a pandas DataFrame with 7 columns\n",
    "    df = pd.DataFrame(data, columns=[\"Time (ps)\", \"Rg\", \"Rg\\sX-N\", \"Rg\\sY-N\", \"Rg\\sZ-N\"])\n",
    "\n",
    "    # Specify the path to save the Excel file\n",
    "    excel_file = r\"C:\\Users\\User\\Desktop\\thesis\\topic1\\8TMA_06122024\\gyrate.xlsx\"\n",
    "\n",
    "    # Save the DataFrame to an Excel file\n",
    "    df.to_excel(excel_file, index=False)\n",
    "\n",
    "    print(f\"Data successfully saved to {excel_file}\")\n",
    "\n",
    "except FileNotFoundError:\n",
    "    print(f\"Error: The file {xvg_file} was not found.\")\n",
    "except Exception as e:\n",
    "    print(f\"An unexpected error occurred: {e}\")\n"
   ]
  },
  {
   "cell_type": "code",
   "execution_count": 12,
   "metadata": {},
   "outputs": [
    {
     "name": "stdout",
     "output_type": "stream",
     "text": [
      "Data successfully saved to C:\\Users\\User\\Desktop\\thesis\\topic1\\8TMA_06122024\\density.xlsx\n"
     ]
    }
   ],
   "source": [
    "import pandas as pd\n",
    "\n",
    "# Specify the path to your .xvg file\n",
    "xvg_file = r\"C:\\Users\\User\\Desktop\\thesis\\topic1\\8TMA_06122024\\density.xvg\"\n",
    "\n",
    "# Initialize an empty list to store the data\n",
    "data = []\n",
    "\n",
    "try:\n",
    "    # Read the .xvg file, ignoring lines that start with '@' or '#'\n",
    "    with open(xvg_file, 'r') as file:\n",
    "        for line in file:\n",
    "            # Ignore comment lines and empty lines\n",
    "            if not line.startswith(('@', '#')) and line.strip():\n",
    "                data.append([float(x) for x in line.split()])\n",
    "\n",
    "    # Convert the data into a pandas DataFrame with 7 columns\n",
    "    df = pd.DataFrame(data, columns=[\"Time (ps)\", \"Column 1\"])\n",
    "\n",
    "    # Specify the path to save the Excel file\n",
    "    excel_file = r\"C:\\Users\\User\\Desktop\\thesis\\topic1\\8TMA_06122024\\density.xlsx\"\n",
    "\n",
    "    # Save the DataFrame to an Excel file\n",
    "    df.to_excel(excel_file, index=False)\n",
    "\n",
    "    print(f\"Data successfully saved to {excel_file}\")\n",
    "\n",
    "except FileNotFoundError:\n",
    "    print(f\"Error: The file {xvg_file} was not found.\")\n",
    "except Exception as e:\n",
    "    print(f\"An unexpected error occurred: {e}\")\n"
   ]
  },
  {
   "cell_type": "code",
   "execution_count": 6,
   "metadata": {},
   "outputs": [
    {
     "name": "stdout",
     "output_type": "stream",
     "text": [
      "Data successfully saved to C:\\Users\\User\\Desktop\\thesis\\topic1\\8TMA_06122024\\energy.xlsx\n"
     ]
    }
   ],
   "source": [
    "import pandas as pd\n",
    "\n",
    "# Specify the path to your .xvg file\n",
    "xvg_file = r\"C:\\Users\\User\\Desktop\\thesis\\topic1\\8TMA_06122024\\energy.xvg\"\n",
    "\n",
    "# Initialize an empty list to store the data\n",
    "data = []\n",
    "\n",
    "try:\n",
    "    # Read the .xvg file, ignoring lines that start with '@' or '#'\n",
    "    with open(xvg_file, 'r') as file:\n",
    "        for line in file:\n",
    "            # Ignore comment lines and empty lines\n",
    "            if not line.startswith(('@', '#')) and line.strip():\n",
    "                data.append([float(x) for x in line.split()])\n",
    "\n",
    "    # Convert the data into a pandas DataFrame with 3 columns\n",
    "    df = pd.DataFrame(data, columns=[\"Time (ps)\", \"Column 1\", \"Column 2\", \"Column 3\", \"Column 4\", \"Column 5\", \"Column 6\", \"Column 7\", \"Column 8\", \"Column 9\", \"Column 10\"])\n",
    "\n",
    "    # Specify the path to save the Excel file\n",
    "    excel_file = r\"C:\\Users\\User\\Desktop\\thesis\\topic1\\8TMA_06122024\\energy.xlsx\"\n",
    "\n",
    "    # Save the DataFrame to an Excel file\n",
    "    df.to_excel(excel_file, index=False)\n",
    "\n",
    "    print(f\"Data successfully saved to {excel_file}\")\n",
    "\n",
    "except FileNotFoundError:\n",
    "    print(f\"Error: The file {xvg_file} was not found.\")\n",
    "except Exception as e:\n",
    "    print(f\"An unexpected error occurred: {e}\")\n"
   ]
  },
  {
   "cell_type": "code",
   "execution_count": null,
   "metadata": {},
   "outputs": [
    {
     "name": "stdout",
     "output_type": "stream",
     "text": [
      "Data successfully saved to C:\\Users\\User\\Desktop\\thesis\\topic1\\42DTAB_30112024\\energy.xlsx\n"
     ]
    }
   ],
   "source": [
    "import pandas as pd\n",
    "\n",
    "# Specify the path to your .xvg file\n",
    "xvg_file = r\"C:\\Users\\User\\Desktop\\thesis\\topic1\\8TMA_06122024\\energy.xvg\"\n",
    "\n",
    "# Initialize an empty list to store the data\n",
    "data = []\n",
    "\n",
    "try:\n",
    "    # Read the .xvg file, ignoring lines that start with '@' or '#'\n",
    "    with open(xvg_file, 'r') as file:\n",
    "        for line in file:\n",
    "            # Ignore comment lines and empty lines\n",
    "            if not line.startswith(('@', '#')) and line.strip():\n",
    "                data.append([float(x) for x in line.split()])\n",
    "\n",
    "    # Convert the data into a pandas DataFrame with 3 columns\n",
    "    df = pd.DataFrame(data, columns=[\"Time (ps)\", \"Column 1\", \"Column 2\", \"Column 3\", \"Column 4\", \"Column 5\", \"Column 6\", \"Column 7\", \"Column 8\", \"Column 9\", \"Column 10\", \"Column 11\", \"Column 12\"])\n",
    "\n",
    "    # Specify the path to save the Excel file\n",
    "    excel_file = r\"C:\\Users\\User\\Desktop\\thesis\\topic1\\8TMA_06122024\\energy.xlsx\"\n",
    "\n",
    "    # Save the DataFrame to an Excel file\n",
    "    df.to_excel(excel_file, index=False)\n",
    "\n",
    "    print(f\"Data successfully saved to {excel_file}\")\n",
    "\n",
    "except FileNotFoundError:\n",
    "    print(f\"Error: The file {xvg_file} was not found.\")\n",
    "except Exception as e:\n",
    "    print(f\"An unexpected error occurred: {e}\")\n"
   ]
  }
 ],
 "metadata": {
  "kernelspec": {
   "display_name": "venv",
   "language": "python",
   "name": "python3"
  },
  "language_info": {
   "codemirror_mode": {
    "name": "ipython",
    "version": 3
   },
   "file_extension": ".py",
   "mimetype": "text/x-python",
   "name": "python",
   "nbconvert_exporter": "python",
   "pygments_lexer": "ipython3",
   "version": "3.9.10"
  }
 },
 "nbformat": 4,
 "nbformat_minor": 2
}
