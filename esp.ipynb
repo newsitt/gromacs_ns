{
 "cells": [
  {
   "cell_type": "markdown",
   "metadata": {},
   "source": [
    "# DERIVIATION OF PARTIAL CHARGE"
   ]
  },
  {
   "cell_type": "markdown",
   "metadata": {},
   "source": [
    "## REFORMAT"
   ]
  },
  {
   "cell_type": "code",
   "execution_count": 1,
   "metadata": {},
   "outputs": [
    {
     "name": "stdout",
     "output_type": "stream",
     "text": [
      "ESP data successfully reformatted and saved to: nwchem/dft_dtab/esp/esp_out.txt\n"
     ]
    }
   ],
   "source": [
    "# Python script to reformat ESP data\n",
    "\n",
    "def reformat_esp(input_file, output_file):\n",
    "    \"\"\"\n",
    "    Reformat the ESP data file into a structured format for RESP fitting.\n",
    "\n",
    "    Args:\n",
    "        input_file (str): Path to the input ESP data file.\n",
    "        output_file (str): Path to the output reformatted file.\n",
    "    \"\"\"\n",
    "    try:\n",
    "        with open(input_file, 'r') as infile, open(output_file, 'w') as outfile:\n",
    "            # Write the header\n",
    "            outfile.write(\"# Reformatted ESP Data\\n\")\n",
    "            outfile.write(\"# x-coord      y-coord      z-coord      Potential (a.u.)\\n\")\n",
    "\n",
    "            # Process each line of the input file\n",
    "            for line in infile:\n",
    "                # Skip empty lines or lines with incorrect formatting\n",
    "                if not line.strip():\n",
    "                    continue\n",
    "\n",
    "                # Split the line into columns\n",
    "                cols = line.split()\n",
    "\n",
    "                # Ensure there are exactly 4 columns (x, y, z, potential)\n",
    "                if len(cols) == 4:\n",
    "                    x, y, z, potential = cols\n",
    "                    # Write formatted data to the output file\n",
    "                    outfile.write(f\"{float(x):10.6f} {float(y):10.6f} {float(z):10.6f} {float(potential):12.6f}\\n\")\n",
    "\n",
    "        print(f\"ESP data successfully reformatted and saved to: {output_file}\")\n",
    "\n",
    "    except Exception as e:\n",
    "        print(f\"Error processing file: {e}\")\n",
    "\n",
    "# Example usage\n",
    "# Replace 'esp_raw.txt' with the path to your input file\n",
    "esp_raw = 'nwchem/dft_dtab/esp/esp_raw.txt'\n",
    "esp_output = 'nwchem/dft_dtab/esp/esp_out.txt'\n",
    "# Replace 'reformatted_esp.txt' with the desired output file name\n",
    "reformat_esp(esp_raw, esp_output)\n"
   ]
  },
  {
   "cell_type": "code",
   "execution_count": 4,
   "metadata": {},
   "outputs": [
    {
     "name": "stdout",
     "output_type": "stream",
     "text": [
      "Generated nwchem/dft_dtab/esp/charges.qin with 50 atoms.\n"
     ]
    }
   ],
   "source": [
    "def generate_charges_qin(atom_count, output_file):\n",
    "    \"\"\"\n",
    "    Generate charges.qin file with initial charges set to 0.000.\n",
    "    \"\"\"\n",
    "    with open(output_file, \"w\") as f:\n",
    "        for i in range(atom_count):\n",
    "            f.write(\"0.000 ! Atom {}\\n\".format(i + 1))\n",
    "    print(f\"Generated {output_file} with {atom_count} atoms.\")\n",
    "\n",
    "# Example Usage\n",
    "atom_count = 50  # Replace with the actual number of atoms\n",
    "generate_charges_qin(atom_count, \"nwchem/dft_dtab/esp/charges.qin\")"
   ]
  }
 ],
 "metadata": {
  "kernelspec": {
   "display_name": "Python 3",
   "language": "python",
   "name": "python3"
  },
  "language_info": {
   "codemirror_mode": {
    "name": "ipython",
    "version": 3
   },
   "file_extension": ".py",
   "mimetype": "text/x-python",
   "name": "python",
   "nbconvert_exporter": "python",
   "pygments_lexer": "ipython3",
   "version": "3.9.21"
  }
 },
 "nbformat": 4,
 "nbformat_minor": 2
}
